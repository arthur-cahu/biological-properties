{
  "cells": [
    {
      "cell_type": "code",
      "execution_count": 5,
      "metadata": {
        "id": "KAv77L9KsRQ2"
      },
      "outputs": [],
      "source": [
        "import numpy as np\n",
        "import pandas as pd"
      ]
    },
    {
      "cell_type": "code",
      "execution_count": null,
      "metadata": {
        "id": "gSdcjO4xsRQ5"
      },
      "outputs": [],
      "source": [
        "from utils import fig_ax, load_data, save_results"
      ]
    },
    {
      "cell_type": "code",
      "execution_count": null,
      "metadata": {
        "id": "Za7i9N_5sRQ6"
      },
      "outputs": [],
      "source": [
        "df_train_val, s_train_val, df_test = load_data()"
      ]
    },
    {
      "cell_type": "code",
      "execution_count": null,
      "metadata": {
        "id": "shkRQeswsRQ8"
      },
      "outputs": [],
      "source": [
        "# send everything to numpy arrays\n",
        "X_train_val = df_train_val.to_numpy()\n",
        "y_train_val = s_train_val.to_numpy()\n",
        "X_test = df_test.to_numpy()"
      ]
    },
    {
      "cell_type": "markdown",
      "metadata": {
        "id": "YjuI3LAVsRQ-"
      },
      "source": [
        "## Basic Regressors"
      ]
    },
    {
      "cell_type": "code",
      "execution_count": null,
      "metadata": {
        "id": "Dg75-SlcsRRB"
      },
      "outputs": [],
      "source": [
        "from sklearn.model_selection import KFold, GridSearchCV\n",
        "from sklearn.pipeline import Pipeline\n",
        "\n",
        "from sklearn.decomposition import PCA"
      ]
    },
    {
      "cell_type": "code",
      "execution_count": null,
      "metadata": {
        "id": "iJzQKGqBsRRD"
      },
      "outputs": [],
      "source": [
        "from sklearn.linear_model import LinearRegression, Ridge, SGDRegressor, Lasso\n",
        "from sklearn import svm\n",
        "from sklearn.ensemble import RandomForestRegressor, ExtraTreesRegressor, GradientBoostingRegressor\n",
        "from sklearn.gaussian_process import GaussianProcessRegressor\n",
        "\n",
        "# build a list of dicts that says which classifier heads to test, and what params to test on them\n",
        "search_params = [\n",
        "    {\n",
        "        \"pca__n_components\": [50],\n",
        "        \"reg\": [LinearRegression()]  # our baseline: mean test score of -0.059320\n",
        "    },\n",
        "    {\n",
        "        \"pca__n_components\": [150],\n",
        "        \"reg\": [Lasso(alpha=0.01)],  # -0.066543\n",
        "    },\n",
        "    {\n",
        "        \"pca__n_components\": [50],\n",
        "        \"reg\": [Ridge()]  # -0.059013\n",
        "    },\n",
        "    {\n",
        "        \"pca__n_components\": [250],\n",
        "        \"reg\": [SGDRegressor()]  # -0.060203\n",
        "    },\n",
        "    {\n",
        "        \"pca__n_components\": [250],\n",
        "        \"reg\": [GaussianProcessRegressor()]  # -0.049241\n",
        "    },\n",
        "    {\n",
        "        \"pca__n_components\": [250],\n",
        "        \"reg\": [svm.SVR(epsilon=3.6e-5, C=0.3, cache_size=1000)],  # -0.046590\n",
        "    },\n",
        "    {\n",
        "        \"pca__n_components\": [250],\n",
        "        \"reg\": [svm.NuSVR(nu=1, C=0.3, cache_size=1000)],  # -0.046590; public score 0.0328\n",
        "        \"reg__nu\": [1],\n",
        "        \"reg__C\": [0.3]\n",
        "    },\n",
        "    {\n",
        "        \"pca__n_components\": [50],\n",
        "        \"reg\": [RandomForestRegressor(n_estimators=1000)],  # -0.048581\n",
        "    },\n",
        "    {\n",
        "        \"pca__n_components\": [50],\n",
        "        \"reg\": [ExtraTreesRegressor(n_estimators=1000)]  # -0.046971\n",
        "\n",
        "    },\n",
        "    {\n",
        "        \"pca__n_components\": [150],\n",
        "        \"reg\": [GradientBoostingRegressor(learning_rate=0.1)],  # -0.051251\n",
        "    },\n",
        "\n",
        "### NB: nous avons testé des grilles de paramètres pour chaque algorithme, par exemple:\n",
        "    # {\n",
        "    #     \"pca__n_components\": [50, 100, 150, 200, 250, \"mle\"],\n",
        "    #     \"reg\": [svm.SVR(cache_size=1000)],\n",
        "    #     \"epsilon\": np.logspace(-5, 0),\n",
        "    #     \"C\": np.logspace(-5, 0),\n",
        "    # },\n",
        "]\n"
      ]
    },
    {
      "cell_type": "code",
      "execution_count": null,
      "metadata": {
        "id": "ortyd5QAsRRF"
      },
      "outputs": [],
      "source": [
        "# initialise the pipeline\n",
        "pipe = Pipeline([\n",
        "    (\"pca\", PCA(n_components=150)), # could also use \"mle\"\n",
        "    (\"reg\", LinearRegression())\n",
        "])"
      ]
    },
    {
      "cell_type": "code",
      "execution_count": null,
      "metadata": {
        "id": "nUkscfoPsRRH"
      },
      "outputs": [],
      "source": [
        "#split dataset into training and validation\n",
        "kf = KFold(n_splits=5, random_state=42, shuffle=True).split(X_train_val, y_train_val)\n",
        "\n",
        "search = GridSearchCV(\n",
        "    pipe,\n",
        "    search_params,\n",
        "    #n_iter=100,\n",
        "    cv=kf,\n",
        "    scoring=\"neg_mean_squared_error\",\n",
        "    n_jobs=-1,\n",
        "    pre_dispatch=\"2*n_jobs\",\n",
        "    verbose=1\n",
        ")\n",
        "\n",
        "search.fit(X_train_val, y_train_val)\n",
        "search.best_score_"
      ]
    },
    {
      "cell_type": "code",
      "execution_count": null,
      "metadata": {
        "id": "vsa9SLo4sRRK"
      },
      "outputs": [],
      "source": [
        "# display the results\n",
        "results = pd.DataFrame(search.cv_results_)\n",
        "# results.sort_values(\"rank_test_score\", inplace=True)\n",
        "\n",
        "# let's make some room so we can visualise the results:\n",
        "results.drop(\n",
        "    columns=[f\"split{i}_test_score\" for i in range(5)]\n",
        "    + [\"std_fit_time\", \"mean_score_time\", \"std_score_time\", \"std_test_score\"]\n",
        ")\n"
      ]
    },
    {
      "cell_type": "code",
      "execution_count": null,
      "metadata": {
        "id": "Uw23Y67SsRRL"
      },
      "outputs": [],
      "source": [
        "# export the cross-validation results to csv\n",
        "cols_to_export = [\"param_reg\", \"param_pca__n_components\", \"mean_fit_time\", \"mean_test_score\"]\n",
        "results.sort_values(\"mean_test_score\", inplace=True, ascending=False)\n",
        "results[cols_to_export].to_csv(\"results.csv\", index=False)"
      ]
    },
    {
      "cell_type": "code",
      "execution_count": null,
      "metadata": {
        "id": "iS4fpdD8sRRM"
      },
      "outputs": [],
      "source": [
        "search.best_params_"
      ]
    },
    {
      "cell_type": "code",
      "execution_count": null,
      "metadata": {
        "id": "9Exm4NoqsRRN"
      },
      "outputs": [],
      "source": [
        "pca = search.best_estimator_[0]\n",
        "regressor = search.best_estimator_[1]\n",
        "pca.explained_variance_ratio_.sum()"
      ]
    },
    {
      "cell_type": "code",
      "execution_count": null,
      "metadata": {
        "id": "tPu0UO7JsRRO"
      },
      "outputs": [],
      "source": [
        "# compute predictions:\n",
        "y_pred = search.predict(X_test)"
      ]
    },
    {
      "cell_type": "code",
      "execution_count": null,
      "metadata": {
        "id": "c5YId0lYsRRP"
      },
      "outputs": [],
      "source": [
        "save_results(y_pred, df_test.index)"
      ]
    },
    {
      "cell_type": "markdown",
      "metadata": {
        "id": "PBlk01mYsRRQ"
      },
      "source": [
        "## Deep Learning"
      ]
    },
    {
      "cell_type": "markdown",
      "source": [
        "### If run with colab + dataset on googledrive"
      ],
      "metadata": {
        "id": "_Kjzk2pduFCQ"
      }
    },
    {
      "cell_type": "markdown",
      "source": [
        "If you're not using Google colab, skip these 2 cells"
      ],
      "metadata": {
        "id": "j9LzQIP7vCiu"
      }
    },
    {
      "cell_type": "code",
      "source": [
        "from google.colab import drive\n",
        "drive.mount('/content/drive')"
      ],
      "metadata": {
        "id": "Grh8i7Q6tZ1r"
      },
      "execution_count": null,
      "outputs": []
    },
    {
      "cell_type": "code",
      "source": [
        "\n",
        "from glob import glob\n",
        "def fig_ax(figsize=(15, 5)):\n",
        "    fig, ax = plt.subplots(figsize=figsize)\n",
        "    ax.margins(x=0)\n",
        "    return fig, ax\n",
        "\n",
        "\n",
        "def load_data(folder=\"drive/MyDrive/data\"):\n",
        "    \"\"\"Returns X_train, y_train, X_test as a list of DataFrame, Series, DataFrame.\n",
        "    \"\"\"\n",
        "    filespecs = [\"input_training_*.csv\", \"output_training_*.csv\", \"input_testing.csv\"]\n",
        "    out = []\n",
        "    for filespec in filespecs:\n",
        "        filename = glob(os.path.join(folder, filespec))[0]\n",
        "        out.append(pd.read_csv(\n",
        "            filename,\n",
        "            index_col=0\n",
        "        ).squeeze().astype(\"float64\"))\n",
        "    return out\n",
        "\n",
        "\n",
        "def save_results(y_pred: np.ndarray, test_index: pd.Index, out_path=\"submission.csv\"):\n",
        "    \"\"\"Saves the predictions for submission.\"\"\"\n",
        "    out_df = pd.DataFrame(y_pred, index=test_index)\n",
        "    out_df.to_csv(out_path)"
      ],
      "metadata": {
        "id": "J_Scij8ytUbP"
      },
      "execution_count": 21,
      "outputs": []
    },
    {
      "cell_type": "markdown",
      "metadata": {
        "id": "2ktyTBnp3PDa"
      },
      "source": [
        "### Define Dataloader"
      ]
    },
    {
      "cell_type": "code",
      "execution_count": 22,
      "metadata": {
        "id": "O7RNyjKOsRRR"
      },
      "outputs": [],
      "source": [
        "import os\n",
        "from sklearn.model_selection import train_test_split\n",
        "import torch\n",
        "from torchvision import datasets, transforms\n",
        "from torch.utils.data import DataLoader,TensorDataset\n",
        "from torch.optim import Adam\n",
        "from torch import nn\n",
        "import torch.nn.functional as F\n",
        "from tqdm.notebook import tqdm\n",
        "from copy import deepcopy"
      ]
    },
    {
      "cell_type": "code",
      "execution_count": 23,
      "metadata": {
        "id": "DoK04q5NsRRR"
      },
      "outputs": [],
      "source": [
        "device = torch.device(\"cuda\" if torch.cuda.is_available() else \"cpu\")"
      ]
    },
    {
      "cell_type": "code",
      "execution_count": 24,
      "metadata": {
        "id": "0EtbfFQmquAQ"
      },
      "outputs": [],
      "source": [
        "df_train_val, s_train_val, df_test = load_data()"
      ]
    },
    {
      "cell_type": "code",
      "execution_count": 25,
      "metadata": {
        "id": "ZwAc-PD5qvqk"
      },
      "outputs": [],
      "source": [
        "# send everything to numpy arrays\n",
        "X_train_val = df_train_val.to_numpy()\n",
        "y_train_val = s_train_val.to_numpy()\n",
        "X_test = df_test.to_numpy()"
      ]
    },
    {
      "cell_type": "code",
      "execution_count": 26,
      "metadata": {
        "id": "fJf_p_VQ-bYe"
      },
      "outputs": [],
      "source": [
        "from sklearn.decomposition import PCA\n",
        "X_train, X_val, y_train, y_val = train_test_split(X_train_val, y_train_val, test_size=0.2, random_state=42)\n",
        "do_pca = False\n",
        "if do_pca:\n",
        "  pca = PCA(n_components= 100)\n",
        "  X_train = pca.fit_transform(X_train)\n",
        "  X_val = pca.transform(X_val)"
      ]
    },
    {
      "cell_type": "code",
      "execution_count": null,
      "metadata": {
        "id": "2pEs4VAewwRu"
      },
      "outputs": [],
      "source": [
        "print(X_train.shape[1])"
      ]
    },
    {
      "cell_type": "code",
      "execution_count": 28,
      "metadata": {
        "id": "ohD8TElAuhBZ"
      },
      "outputs": [],
      "source": [
        "batch_size = 1\n",
        "\n",
        "train_dataset = TensorDataset(torch.Tensor(X_train),torch.Tensor(y_train))\n",
        "train_loader = DataLoader(train_dataset, batch_size=batch_size, num_workers=1, shuffle=True)\n",
        "val_dataset = TensorDataset(torch.Tensor(X_val),torch.Tensor(y_val))\n",
        "val_loader = DataLoader(val_dataset, batch_size=batch_size, num_workers=1, shuffle=True)"
      ]
    },
    {
      "cell_type": "code",
      "execution_count": null,
      "metadata": {
        "id": "U36ayvjU1pDs"
      },
      "outputs": [],
      "source": [
        "len(val_dataset)"
      ]
    },
    {
      "cell_type": "markdown",
      "metadata": {
        "id": "UeTWro1Q3Xjh"
      },
      "source": [
        "### Define network"
      ]
    },
    {
      "cell_type": "code",
      "execution_count": 30,
      "metadata": {
        "id": "ClrpcseXv88u"
      },
      "outputs": [],
      "source": [
        "class Regression(nn.Module):\n",
        "    def __init__(self):\n",
        "        super(Regression, self).__init__()\n",
        "        self.fc1 = nn.Linear(X_train.shape[1], 1)\n",
        "\n",
        "    def forward(self, x):\n",
        "        x = self.fc1(x)\n",
        "        return x\n",
        "\n",
        "\n",
        "class Net(nn.Module):\n",
        "    def __init__(self):\n",
        "        super(Net, self).__init__()\n",
        "        self.dropout = torch.nn.Dropout(p=0.3, inplace=False)\n",
        "        self.fc1 = nn.Linear(X_train.shape[1], 1024)\n",
        "        self.fc2 = nn.Linear(1024, 1024)\n",
        "        self.fc3 = nn.Linear(1024, 1024)\n",
        "        #self.fc4 = nn.Linear(1024, 1024)\n",
        "        #self.fc5 = nn.Linear(1024, 1024)\n",
        "        #self.fc6 = nn.Linear(1024, 1024)\n",
        "        self.fcf = nn.Linear(1024, 1)\n",
        "\n",
        "    def forward(self, x):\n",
        "        x = F.relu(self.fc1(x))\n",
        "        x = F.relu(self.fc2(self.dropout(x)))\n",
        "        x = F.relu(self.fc3(self.dropout(x)))\n",
        "        #x = F.relu(self.fc4(self.dropout(x)))\n",
        "        #x = F.relu(self.fc5(self.dropout(x)))\n",
        "        #x = F.relu(self.fc6(x))\n",
        "        x = self.fcf(x)\n",
        "        return x\n",
        "\n",
        "class Transformers_model(nn.Module):\n",
        "    def __init__(self):\n",
        "        super(Transformers_model, self).__init__()\n",
        "        \n",
        "        encoder_layer = nn.TransformerEncoderLayer(d_model=295, nhead=5)\n",
        "        self.transformer_encoder = nn.TransformerEncoder(encoder_layer, num_layers=1)\n",
        "        self.fc1 = nn.Linear(295, 1)\n",
        "\n",
        "    def forward(self, x):\n",
        "        x = self.transformer_encoder(x.unsqueeze(0))\n",
        "        x = self.fc1(x)\n",
        "        return x"
      ]
    },
    {
      "cell_type": "markdown",
      "metadata": {
        "id": "ZxVpa3Ec3byA"
      },
      "source": [
        "### Training Loop"
      ]
    },
    {
      "cell_type": "code",
      "execution_count": 31,
      "metadata": {
        "id": "tnfarXLvxyq1"
      },
      "outputs": [],
      "source": [
        "def validation(model, val_loader):\n",
        "  model.eval()\n",
        "  val_criterion = torch.nn.MSELoss(reduction = 'sum')\n",
        "  total_loss = 0.0\n",
        "  with tqdm(val_loader, unit=\"batch\") as batch:\n",
        "        for data, target in batch:\n",
        "            data, target = data.to(device), target.to(device)\n",
        "            with torch.no_grad():\n",
        "                output = model(data)\n",
        "                loss = val_criterion(output, target)\n",
        "                total_loss += loss.item()\n",
        "  return total_loss/len(val_dataset)"
      ]
    },
    {
      "cell_type": "code",
      "execution_count": null,
      "metadata": {
        "id": "3xffAmW4sh5a"
      },
      "outputs": [],
      "source": [
        "import math\n",
        "\n",
        "\n",
        "#model = Regression()\n",
        "model = Net()\n",
        "#model = Transformers_model()\n",
        "criterion = torch.nn.MSELoss(reduction='sum')\n",
        "\n",
        "learning_rate = 0.001\n",
        "optimizer = torch.optim.Adam(model.parameters(), lr=learning_rate, weight_decay=0.00001)\n",
        "\n",
        "lambda1 = lambda epoch: 10**-(math.log10(epoch+1)/2)\n",
        "lambda2 = lambda epoch: 0.9**epoch\n",
        "scheduler = torch.optim.lr_scheduler.LambdaLR(optimizer, lr_lambda=lambda2)\n",
        "losses = []\n",
        "\n",
        "model.to(device)\n",
        "best_val_loss = float(\"inf\")\n",
        "best_weights = None\n",
        "model.train()\n",
        "for epoch in range(1, 150):\n",
        "    total_loss = 0.0\n",
        "    model.train()\n",
        "    with tqdm(train_loader, unit=\"batch\") as tepoch:\n",
        "        for data, target in tepoch:\n",
        "            tepoch.set_description(f\"Epoch {epoch}\")\n",
        "\n",
        "            data, target = data.to(device), target.to(device)\n",
        "            optimizer.zero_grad()\n",
        "            output = torch.reshape(model(data), (1,))\n",
        "            loss = criterion(output, target)\n",
        "            total_loss += loss.item()\n",
        "            loss.backward()\n",
        "            #torch.nn.utils.clip_grad_value_(model.parameters(), 0.1)\n",
        "            optimizer.step()\n",
        "            tepoch.set_postfix({'Loss': total_loss / len(val_dataset), 'Learning Rate': optimizer.param_groups[0]['lr']})\n",
        "\n",
        "    val_loss = validation(model, val_loader)\n",
        "    if val_loss < best_val_loss:\n",
        "        best_val_loss = val_loss\n",
        "        best_weights = deepcopy(model.state_dict())\n",
        "    scheduler.step()\n",
        "    print(f\"Val loss: {val_loss}\\tBest val loss: {best_val_loss}\")\n",
        "    losses.append(val_loss)\n"
      ]
    },
    {
      "cell_type": "code",
      "source": [
        "import matplotlib.pyplot as plt\n",
        "plt.plot(losses)\n",
        "plt.show()"
      ],
      "metadata": {
        "id": "3FyMHrCYspVg"
      },
      "execution_count": null,
      "outputs": []
    },
    {
      "cell_type": "code",
      "execution_count": null,
      "metadata": {
        "id": "T-HYWko7qxk2"
      },
      "outputs": [],
      "source": [
        "# compute predictions:\n",
        "model.load_state_dict(best_weights)\n",
        "test_transformed = X_test\n",
        "if do_pca:\n",
        "  test_transformed = pca.transform(X_test)\n",
        "y_pred = []\n",
        "for batch in test_transformed:\n",
        "    test_tensor = torch.tensor(batch)\n",
        "    test_tensor = test_tensor.reshape(1, -1).to(device).to(dtype=torch.float32)\n",
        "    y_pred.append(model(test_tensor).item())\n",
        "y_pred = np.array(y_pred)"
      ]
    },
    {
      "cell_type": "code",
      "execution_count": null,
      "metadata": {
        "id": "Qa2iQTw5qzYY"
      },
      "outputs": [],
      "source": [
        "save_results(y_pred, df_test.index)"
      ]
    }
  ],
  "metadata": {
    "interpreter": {
      "hash": "ec098f3f8c662b53cb495a99f3bdf670fa1052aa811a9729b1f28e0384e8235b"
    },
    "kernelspec": {
      "display_name": "Python 3.8.12 ('ml')",
      "language": "python",
      "name": "python3"
    },
    "language_info": {
      "codemirror_mode": {
        "name": "ipython",
        "version": 3
      },
      "file_extension": ".py",
      "mimetype": "text/x-python",
      "name": "python",
      "nbconvert_exporter": "python",
      "pygments_lexer": "ipython3",
      "version": "3.8.12"
    },
    "orig_nbformat": 4,
    "colab": {
      "name": "experiments.ipynb",
      "provenance": [],
      "collapsed_sections": []
    }
  },
  "nbformat": 4,
  "nbformat_minor": 0
}