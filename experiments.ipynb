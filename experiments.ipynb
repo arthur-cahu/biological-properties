{
 "cells": [
  {
   "cell_type": "code",
   "execution_count": null,
   "metadata": {},
   "outputs": [],
   "source": [
    "import numpy as np\n",
    "import pandas as pd\n",
    "import matplotlib.pyplot as plt\n",
    "import sklearn"
   ]
  },
  {
   "cell_type": "code",
   "execution_count": null,
   "metadata": {},
   "outputs": [],
   "source": [
    "from utils import fig_ax, load_data, save_results"
   ]
  },
  {
   "cell_type": "code",
   "execution_count": null,
   "metadata": {},
   "outputs": [],
   "source": [
    "df_train_val, s_train_val, df_test = load_data()"
   ]
  },
  {
   "cell_type": "code",
   "execution_count": null,
   "metadata": {},
   "outputs": [],
   "source": [
    "# send everything to numpy arrays\n",
    "X_train_val = df_train_val.to_numpy()\n",
    "y_train_val = s_train_val.to_numpy()\n",
    "X_test = df_test.to_numpy()"
   ]
  },
  {
   "cell_type": "markdown",
   "metadata": {},
   "source": [
    "## Basic Regressors"
   ]
  },
  {
   "cell_type": "code",
   "execution_count": null,
   "metadata": {},
   "outputs": [],
   "source": [
    "from sklearn.model_selection import KFold, GridSearchCV\n",
    "from sklearn.pipeline import Pipeline\n",
    "\n",
    "from sklearn.decomposition import PCA"
   ]
  },
  {
   "cell_type": "code",
   "execution_count": null,
   "metadata": {},
   "outputs": [],
   "source": [
    "from sklearn.linear_model import LinearRegression\n",
    "from sklearn import svm\n",
    "from sklearn.ensemble import GradientBoostingRegressor\n",
    "\n",
    "# build a list of dicts that says which classifier heads to test, and what params to test on them\n",
    "search_params = [\n",
    "    {\n",
    "        \"pca__n_components\": [50],\n",
    "        \"reg\": [LinearRegression()]  # our baseline: mean test score of -0.059320\n",
    "    },\n",
    "    {\n",
    "        \"pca__n_components\": [250],\n",
    "        \"reg\": [svm.NuSVR(cache_size=1000)],  # -0.046590; public score 0.0328 \n",
    "        \"reg__nu\": [1],\n",
    "        \"reg__C\": [0.3]\n",
    "    },\n",
    "    # {\n",
    "    #     \"pca__n_components\": [50, 100, 150, 200, 250, \"mle\"],\n",
    "    #     \"reg\": []\n",
    "    # },\n",
    "    # {\n",
    "    #     \"pca__n_components\": [50],\n",
    "    #     \"reg\": [ExtraTreesRegressor()]  # -0.047374\n",
    "    # },\n",
    "    # {\n",
    "    #     \"pca__n_components\": [250],\n",
    "    #     \"reg\": [GaussianProcessRegressor()] #-0.049241\n",
    "    # },\n",
    "    # {\n",
    "    #     \"pca__n_components\": [50],\n",
    "    #     \"reg\": [RandomForestRegressor()],  # -0.049370\n",
    "    #     \"reg__n_estimators\": [100]\n",
    "    # },\n",
    "    # {\n",
    "    #     \"pca__n_components\": [50],\n",
    "    #     \"reg\": [Ridge()] #-0.059013\n",
    "    # },\n",
    "    # {\n",
    "    #     \"pca__n_components\": [250],\n",
    "    #     \"reg\": [svm.SVR(cache_size=1000)],  # -0.046590\n",
    "    #     \"reg__epsilon\": [3.6e-5],\n",
    "    #     \"reg__C\": [0.3]\n",
    "    # {\n",
    "    #     \"pca__n_components\": [150],\n",
    "    #     \"reg\": [GradientBoostingRegressor()],  # -0.051251\n",
    "    #     \"reg__learning_rate\": [0.1]\n",
    "    # },\n",
    "    # },\n",
    "    # {\n",
    "    #     \"pca__n_components\": [250],\n",
    "    #     \"reg\": [SGDRegressor()] # -0.060203\n",
    "    # },\n",
    "    # {\n",
    "    #     \"pca__n_components\": [150],\n",
    "    #     \"reg\": [Lasso()],\n",
    "    #     \"reg__alpha\": np.linspace(0.25, 4, 10) # -0.099515\n",
    "    # },\n",
    "]\n"
   ]
  },
  {
   "cell_type": "code",
   "execution_count": null,
   "metadata": {},
   "outputs": [],
   "source": [
    "# initialise the pipeline\n",
    "pipe = Pipeline([\n",
    "    (\"pca\", PCA(n_components=150)), # could also use \"mle\"\n",
    "    (\"reg\", LinearRegression())\n",
    "])"
   ]
  },
  {
   "cell_type": "code",
   "execution_count": null,
   "metadata": {},
   "outputs": [],
   "source": [
    "#split dataset into training and validation\n",
    "kf = KFold(n_splits=5, random_state=42, shuffle=True).split(X_train_val, y_train_val)\n",
    "\n",
    "search = GridSearchCV(\n",
    "    pipe,\n",
    "    search_params,\n",
    "    #n_iter=100,\n",
    "    cv=kf,\n",
    "    scoring=\"neg_mean_squared_error\",\n",
    "    n_jobs=-1,\n",
    "    pre_dispatch=\"2*n_jobs\",\n",
    "    verbose=1\n",
    ")\n",
    "\n",
    "search.fit(X_train_val, y_train_val)\n",
    "search.best_score_"
   ]
  },
  {
   "cell_type": "code",
   "execution_count": null,
   "metadata": {},
   "outputs": [],
   "source": [
    "results = pd.DataFrame(search.cv_results_).drop(columns = [f\"split{i}_test_score\" for i in range(5)] + [\"std_fit_time\", \"std_score_time\"])\n",
    "# results.sort_values(\"rank_test_score\", inplace=True)\n",
    "results"
   ]
  },
  {
   "cell_type": "code",
   "execution_count": null,
   "metadata": {},
   "outputs": [],
   "source": [
    "search.best_params_"
   ]
  },
  {
   "cell_type": "code",
   "execution_count": null,
   "metadata": {},
   "outputs": [],
   "source": [
    "pca = search.best_estimator_[0]\n",
    "regressor = search.best_estimator_[1]\n",
    "pca.explained_variance_ratio_.sum()"
   ]
  },
  {
   "cell_type": "code",
   "execution_count": null,
   "metadata": {},
   "outputs": [],
   "source": [
    "# compute predictions:\n",
    "y_pred = search.predict(X_test)"
   ]
  },
  {
   "cell_type": "code",
   "execution_count": null,
   "metadata": {},
   "outputs": [],
   "source": [
    "save_results(y_pred, df_test.index)"
   ]
  }
 ],
 "metadata": {
  "interpreter": {
   "hash": "ec098f3f8c662b53cb495a99f3bdf670fa1052aa811a9729b1f28e0384e8235b"
  },
  "kernelspec": {
   "display_name": "Python 3.8.12 ('ml')",
   "language": "python",
   "name": "python3"
  },
  "language_info": {
   "codemirror_mode": {
    "name": "ipython",
    "version": 3
   },
   "file_extension": ".py",
   "mimetype": "text/x-python",
   "name": "python",
   "nbconvert_exporter": "python",
   "pygments_lexer": "ipython3",
   "version": "3.8.12"
  },
  "orig_nbformat": 4
 },
 "nbformat": 4,
 "nbformat_minor": 2
}
